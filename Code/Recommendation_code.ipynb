{
 "cells": [
  {
   "cell_type": "code",
   "execution_count": null,
   "metadata": {},
   "outputs": [],
   "source": [
    "import pandas as pd\n",
    "import numpy as np\n",
    "from sklearn.feature_extraction.text import TfidfVectorizer\n",
    "from rank_bm25 import BM25Okapi\n",
    "from sentence_transformers import SentenceTransformer\n",
    "import faiss\n",
    "from sklearn.preprocessing import normalize\n",
    "\n",
    "# 1️⃣ 데이터 로드\n",
    "df = pd.read_excel(\"kurly.xlsx\")\n",
    "\n",
    "# 필요한 데이터만 사용\n",
    "data = df[['브랜드', '상품이름', 'URL', '가격', '리뷰수', '태깅', '키워드']].copy()\n",
    "data['청크'] = data['키워드']"
   ]
  },
  {
   "cell_type": "code",
   "execution_count": null,
   "metadata": {},
   "outputs": [],
   "source": [
    "# 2️⃣ TF-IDF 인코딩 생성\n",
    "tfidf_vectorizer = TfidfVectorizer()\n",
    "tfidf_matrix = tfidf_vectorizer.fit_transform(data['청크'])"
   ]
  },
  {
   "cell_type": "code",
   "execution_count": null,
   "metadata": {},
   "outputs": [],
   "source": [
    "# 3️⃣ BM25 준비\n",
    "bm25 = BM25Okapi([chunk.split() for chunk in data['청크']])"
   ]
  },
  {
   "cell_type": "code",
   "execution_count": null,
   "metadata": {},
   "outputs": [],
   "source": [
    "# 4️⃣ Semantic Embedding 준비\n",
    "embedding_model = SentenceTransformer(\"BAAI/bge-m3\")\n",
    "data['embedding'] = data['청크'].apply(lambda x: embedding_model.encode(x))"
   ]
  },
  {
   "cell_type": "code",
   "execution_count": null,
   "metadata": {},
   "outputs": [],
   "source": [
    "# 5️⃣ FAISS 인덱스 생성\n",
    "d = len(data['embedding'][0])\n",
    "faiss_index = faiss.IndexFlatL2(d)\n",
    "faiss_index.add(np.vstack(data['embedding'].values))"
   ]
  },
  {
   "cell_type": "code",
   "execution_count": null,
   "metadata": {},
   "outputs": [],
   "source": [
    "# 6️⃣ 상품 추천 함수\n",
    "def search_products(query, top_k=5):\n",
    "    # (1) TF-IDF 기반 검색\n",
    "    tfidf_query_vec = tfidf_vectorizer.transform([query])\n",
    "    tfidf_scores = (tfidf_matrix @ tfidf_query_vec.T).toarray().flatten()  \n",
    "\n",
    "    # (2) BM25 기반 검색\n",
    "    bm25_scores = bm25.get_scores(query.split())\n",
    "\n",
    "    # (3) Semantic Embedding 기반 검색\n",
    "    query_embedding = embedding_model.encode(query)\n",
    "    query_embedding = normalize(query_embedding.reshape(1, -1), axis=1)  \n",
    "    _, semantic_indices = faiss_index.search(query_embedding, len(data))\n",
    "    semantic_scores = np.zeros(len(data))\n",
    "    for rank, idx in enumerate(semantic_indices[0]):\n",
    "        semantic_scores[idx] = len(data) - rank \n",
    "\n",
    "    # (4) Rank Fusion\n",
    "    combined_scores = tfidf_scores + bm25_scores + semantic_scores \n",
    "    ranked_indices = np.argsort(combined_scores)[::-1]\n",
    "\n",
    "    # 상위 K개의 결과 반환\n",
    "    results = data.iloc[ranked_indices[:top_k]].copy()\n",
    "    results['점수'] = combined_scores[ranked_indices[:top_k]]\n",
    "    return results[['브랜드', '상품이름', 'URL', '가격', '리뷰수', '태깅', '점수']]"
   ]
  },
  {
   "cell_type": "code",
   "execution_count": null,
   "metadata": {},
   "outputs": [],
   "source": [
    "# 7️⃣ 상품 추천 결과 보기\n",
    "query = \"간식으로 먹을 수 있는 든든한 샌드위치 추천해줘\"\n",
    "recommendations = search_products(query)\n",
    "recommendations"
   ]
  }
 ],
 "metadata": {
  "kernelspec": {
   "display_name": "Python 3",
   "language": "python",
   "name": "python3"
  },
  "language_info": {
   "codemirror_mode": {
    "name": "ipython",
    "version": 3
   },
   "file_extension": ".py",
   "mimetype": "text/x-python",
   "name": "python",
   "nbconvert_exporter": "python",
   "pygments_lexer": "ipython3",
   "version": "3.10.6"
  }
 },
 "nbformat": 4,
 "nbformat_minor": 2
}
